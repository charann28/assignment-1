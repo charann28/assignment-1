{
 "cells": [
  {
   "cell_type": "code",
   "execution_count": null,
   "id": "0e35a945",
   "metadata": {},
   "outputs": [],
   "source": [
    "1. In the below elements which of them are values or an expression? eg:- values can be\n",
    "integer or string and expressions will be mathematical operators.\n",
    "*\n",
    "&\n",
    "-87.8\n",
    "-\n",
    "/\n",
    "+\n",
    "\n",
    "ANSWER:\n",
    "    Values are -87.8 and 6\n",
    "    expressions are *,&,-,/,+\n",
    "    "
   ]
  },
  {
   "cell_type": "code",
   "execution_count": null,
   "id": "e66e4b97",
   "metadata": {},
   "outputs": [],
   "source": [
    "2. What is the difference between string and variable?\n",
    "\n",
    "ANSWER:\n",
    "   1.variables are used to store data in a program.\n",
    "    example: a=33\n",
    "        Here a is a VARIABLE because it is storing a value that is 33.\n",
    "        \n",
    "   2.String is the combinaton of characters which is denoted by '' , \"\" , ''' '''.\n",
    "    EXAMPLE : name=\"charan\"\n",
    "        \"charan\" is a string value.\n",
    "        "
   ]
  },
  {
   "cell_type": "code",
   "execution_count": null,
   "id": "7800bf29",
   "metadata": {},
   "outputs": [],
   "source": [
    "3. Describe three different data types.\n",
    "\n",
    "ANSWER:\n",
    "    The three data types are\n",
    "    1.LIST\n",
    "    List is a sequence data type in phython. we can modify elements in list and it is denoted by square brackets [].\n",
    "    Elements in list can be any data types.\n",
    "    EXAMPLE:\n",
    "        lst=[1,22.3,\"charan\"]\n",
    "    2.TUPLE\n",
    "    Tuple is a sequence data type in phython. we cannot modify elements in tuple and it is denoted by ().\n",
    "    Elements in tuple can be any data types.\n",
    "    EXAMPLE:\n",
    "        tup=(1,22.3,\"charan\")\n",
    "    3.INTEGER\n",
    "    Integer is a numeric data type which contains positive and negative numbers and represnted by int. \n",
    "    EXAMPLE:\n",
    "        a=1\n",
    "    "
   ]
  },
  {
   "cell_type": "code",
   "execution_count": null,
   "id": "0996ac1b",
   "metadata": {},
   "outputs": [],
   "source": [
    "4. What is an expression made up of? What do all expressions do?\n",
    "\n",
    "ANSWER:\n",
    "    An expression is made up of variables,operators, and method invocations which are constructed according to the syntax of the language.\n",
    "    All the expressions are evaluated as per the precedence of the given operators.\n",
    "    EXAMPLE:\n",
    "        x=3+3\n",
    "        \n",
    "           "
   ]
  },
  {
   "cell_type": "code",
   "execution_count": null,
   "id": "aa3f194b",
   "metadata": {},
   "outputs": [],
   "source": [
    "5. This assignment statements, like spam = 10. What is the difference between an\n",
    "expression and a statement?\n",
    "\n",
    "ANSWER:\n",
    "    Statements represent an action or command. eg print statement , assignment statement.\n",
    "    Expression is a combination of variables , operations and values which gives a result value. \n",
    "    "
   ]
  },
  {
   "cell_type": "code",
   "execution_count": null,
   "id": "0412663d",
   "metadata": {},
   "outputs": [],
   "source": [
    "6. After running the following code, what does the variable bacon contain?\n",
    "bacon = 22\n",
    "bacon + 1\n",
    "\n",
    "ANSWER:\n",
    "    The bacon contains the same value 22 because  we can only concatenate str to str (not \"int\") so when we run bacon + 1 it shows an error.\n",
    "        "
   ]
  },
  {
   "cell_type": "code",
   "execution_count": null,
   "id": "5fa9d1ce",
   "metadata": {},
   "outputs": [],
   "source": [
    "7. What should the values of the following two terms be?\n",
    "'spam'+'spamspam'\n",
    "'spam'*3\n",
    "\n",
    "ANSWER:\n",
    "    The output of both the codes will be the same that is 'spamspamspam'\n",
    "    "
   ]
  },
  {
   "cell_type": "code",
   "execution_count": null,
   "id": "fb93cec6",
   "metadata": {},
   "outputs": [],
   "source": [
    "8. Why is eggs a valid variable name while 100 is invalid?\n",
    "\n",
    " ANSWER:\n",
    "        The variable name eggs is valid while 100 is invalid because we cannot use symbols and numbers as a first word of variables.\n",
    "        That is the reason 100 is inavlid as a variable name cause it is a number."
   ]
  },
  {
   "cell_type": "code",
   "execution_count": null,
   "id": "f710d29a",
   "metadata": {},
   "outputs": [],
   "source": [
    "9. What three functions can be used to get the integer, floating-point number, or string\n",
    "version of a value?\n",
    "\n",
    "ANSWER:\n",
    "    The int() , float() , and str( ) functions will evaluate to the integer, floating-point number, and string versions of the value passed to them."
   ]
  },
  {
   "cell_type": "code",
   "execution_count": null,
   "id": "0efc02b5",
   "metadata": {},
   "outputs": [],
   "source": [
    "10. Why does this expression cause an error? How can you fix it?\n",
    "'I have eaten'+99+'burritos'\n",
    "ANSWER:\n",
    "    The above expreesions shows an error because we can only concatenate str to str (not \"int\") where as 99 is an int value.\n",
    "    so to resolve the error we need to convert the int value that is 99 into string using str().\n",
    "    'I have eaten '+str(99)+' burritos'\n",
    "    And the output is :\n",
    "    'I have eaten 99 burritos'   \n",
    "    "
   ]
  }
 ],
 "metadata": {
  "kernelspec": {
   "display_name": "Python 3 (ipykernel)",
   "language": "python",
   "name": "python3"
  },
  "language_info": {
   "codemirror_mode": {
    "name": "ipython",
    "version": 3
   },
   "file_extension": ".py",
   "mimetype": "text/x-python",
   "name": "python",
   "nbconvert_exporter": "python",
   "pygments_lexer": "ipython3",
   "version": "3.9.13"
  }
 },
 "nbformat": 4,
 "nbformat_minor": 5
}
